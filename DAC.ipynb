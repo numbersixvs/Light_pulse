{
 "cells": [
  {
   "cell_type": "markdown",
   "metadata": {},
   "source": [
    "## Описание"
   ]
  },
  {
   "cell_type": "markdown",
   "metadata": {},
   "source": [
    "В файле .bin записан сигнал, полученный с фотодиода. В первых 22 битах записаны параметры измерения, далее – сами значения. (типы данных из языка C).\n",
    "\n",
    "\n"
   ]
  },
  {
   "cell_type": "code",
   "execution_count": 1,
   "metadata": {},
   "outputs": [],
   "source": [
    "#0    uint8_t n       //num channels in sample\n",
    "#1    uint8_t order   //1 - group by sample , 0 - group by channel\n",
    "#2    int32_t N       //num scans\n",
    "#6    double dt       //time between neighbour scans in seconds\n",
    "#14   double V/count\n",
    "#22   int16_t[]       //data"
   ]
  },
  {
   "cell_type": "markdown",
   "metadata": {},
   "source": [
    "1. Открываем файл в двоичном режиме (‘rb’)\n",
    "2. Сканируем первые 22 бита. Для этого используем библиотеку «struct» (а именно struct.unpack). Если нужно, создаем соответствующие переменные (см. табл.)\n",
    "3. За 41 секунду измерений получаем 51250000 значений.  С учётом того, что с этими данными ещё нужно работать, то есть создавать дополнительные списки (причем после преобразования Фурье тип будет уже не int, а float, а значит, данные будут занимать ещё больше памяти), все значения одновременно не поместятся в оперативной памяти компьютера. Выгружать данные на диск в процессе выполнения тоже не выгодно, потому что резко падает скорость вычислений. Поэтому поделим список на равные части и обработаем их по отдельности. В программе это будет выглядеть как цикл.\n",
    "4. Данные представляют собой последовательность экспонент, которые могут накладываться друг на друга. Задача – убрать наложение, но при этом сохранить достаточное разрешение сигнала по времени. Предварительно необходимо выделить самую первую экспоненту, соответствующую первому импульсу и аппроксимировать методом наименьших квадратов. Для дальнейшей обработки важен только параметр затухания экспоненты, причем он будет одинаковый для всех импульсов во всех измерениях, т.к. определяется измерительным прибором.\n",
    "5. Заметим, что свёртка дельта-функции с любой функцией равна этой функции, сдвинутой по оси X в соответствии с нулём аргумента дельта-функции. В частности, свёртка дельта функции (нормированной) с экспонентой даёт такую же экспоненту. Тогда можем считать последовательность экспонент, полученную в эксперименте, результатом свёртки последовательности дельта функций с одной экспонентой (нормированной на единичную площадь), определяемой измерительным прибором. Таким образом, чтобы разделить экспоненты нужно провести обратную свёртку исходных данных с экспонентой, параметр который получен в результате аппроксимации (получая, таким образом, последовательность дельта функций), а затем свернуть результат с новой экспонентой, параметр затухания которой позволяет различить экспоненты.\n",
    "6. В первые 0,5 секунды измерения лампа выключена, поэтому фиксируется только шумовой сигнал. Считаем его среднее значение и стандартное отклонение. В итоговом спектре не учитываем значения, которые попадают в интервал «средний шум +- 5 сигма».\n",
    "7. Далее считаем количество импульсов, энергию каждого из них (интеграл) и строим гистограмму. \n"
   ]
  },
  {
   "cell_type": "markdown",
   "metadata": {},
   "source": [
    "# Пример накладывающихся и разрешённых экспонент"
   ]
  },
  {
   "cell_type": "markdown",
   "metadata": {},
   "source": [
    "<img src=\"Figure_1.png\" width=\"400\">\n",
    "<img src=\"Figure_2.png\" width=\"400\">"
   ]
  },
  {
   "cell_type": "markdown",
   "metadata": {},
   "source": [
    "## Используемые библиотеки:"
   ]
  },
  {
   "cell_type": "code",
   "execution_count": 2,
   "metadata": {},
   "outputs": [],
   "source": [
    "import numpy as np\n",
    "import struct\n",
    "import matplotlib.pyplot as plt\n",
    "import scipy.fftpack as ft\n",
    "import scipy\n",
    "from scipy.signal import argrelextrema"
   ]
  },
  {
   "cell_type": "markdown",
   "metadata": {},
   "source": [
    "## Используемые функции:"
   ]
  },
  {
   "cell_type": "code",
   "execution_count": 3,
   "metadata": {},
   "outputs": [],
   "source": [
    "\n",
    "def scan1byte(f0):\n",
    "    #input: f0 - opened \"rb\" text file\n",
    "    #scans 1 bytes from the f0 file\n",
    "    #output: int variable\n",
    "    #The function needs struct library\n",
    "    return struct.unpack('<B', f0.read(1))[0]\n",
    "\n",
    "def scan4bytes(f0):\n",
    "    #input: f0 - opened \"rb\" text file\n",
    "    #scans 4 bytes from the f0 file\n",
    "    #output: int variable\n",
    "    #The function needs struct library\n",
    "    return struct.unpack('<i', f0.read(4))[0]\n",
    "\n",
    "def scan8bytes(f0):\n",
    "    #input: f0 - opened \"rb\" text file\n",
    "    #scans 8 bytes from the f0 file\n",
    "    #output: float variable\n",
    "    #The function needs struct library\n",
    "    return struct.unpack('<d', f0.read(8))[0]\n",
    "\n",
    "def scan2bytes(f0):\n",
    "    #input: f0 - opened \"rb\" text file\n",
    "    #scans 2 bytes from the f0 file\n",
    "    #output: int variable\n",
    "    #The function needs struct library\n",
    "    return struct.unpack('<h', f0.read(2))[0]\n",
    "\n",
    "def scanN0(N0, f0):\n",
    "    #input: N0 - data lenght, f0 - opened \"rb\" text file\n",
    "    #scans N0*2 bytes from the f0 file\n",
    "    #output: list of int numbers, that has lenght N0\n",
    "    #The function needs struct library\n",
    "    z0 = [scan2bytes(f0) for i in range(N0)]\n",
    "    return z0\n",
    "\n",
    "def revconv(z0, y0):\n",
    "    #input: arrays z0 and y0\n",
    "    #output: reverse convolution of z0 and y0 arrays\n",
    "    #It needs scipy.fftpack\n",
    "    return (ft.ifft(ft.fft(z0)/ft.fft(y0))).real\n",
    "\n",
    "def conv(z0, y0):\n",
    "    #input: arrays z0 and y0\n",
    "    #output: convolution of z0 and y0 arrays\n",
    "    #It needs scipy.fftpack\n",
    "    return (ft.ifft(ft.fft(z0)*ft.fft(y0))).real\n",
    "\n"
   ]
  },
  {
   "cell_type": "markdown",
   "metadata": {},
   "source": [
    "## Функция Analyse для обработки одного файла:"
   ]
  },
  {
   "cell_type": "code",
   "execution_count": 4,
   "metadata": {},
   "outputs": [],
   "source": [
    "def analyse(file_name0):\n",
    "    \n",
    "    #input: file_name0 - input file name or the path\n",
    "    #output: array of pulse powers\n",
    "    \n",
    "    f = open(file_name0+'.bin', \"rb\")\n",
    "    scan1byte(f)       # num of channels\n",
    "    scan1byte(f)       # order: 1 - group by sample , 0 - group by channel\n",
    "    N = scan4bytes(f)  # num of scans\n",
    "    dt = scan8bytes(f) # time between neighbour scans\n",
    "    scan8bytes(f)      # V/count\n",
    "    \n",
    "    part = 100            # number of parts\n",
    "    N1 = N//100           # part of the data for single analyse\n",
    "    tau0=1.23181E-5       # tau0 parameter. Depends on electrical scheme.\n",
    "    tau = tau0/3          # parameter that provide resolution of exps.\n",
    "\n",
    "    x = np.arange(0,N1,1)*dt          # x axis\n",
    "    exp0 = (1/tau0)*np.exp(-x/tau0)   # old exp\n",
    "    exp1 = (1/tau)*np.exp(-x/tau)     # new exp\n",
    "    hist = []\n",
    "\n",
    "    for i in range(part):\n",
    "        z = scanN0(N1, f)      # scan\n",
    "        q = revconv(z, exp0)   # reverse convolution\n",
    "        q = conv(q, exp1)      # convolution\n",
    "        \n",
    "        if i == 0:\n",
    "            noise_level = np.mean(q[0:400000])+5*np.std(q[0:400000]) # noise signal from the first 0.5 s\n",
    "            print(\"Noise level\", noise_level)\n",
    "            \n",
    "        q = q[q >= noise_level]  # cut noise signal\n",
    "        print(str(file_name0)+\" \"+str(int(float(i/part)*100)) + \"%\", end = '')\n",
    "        print('\\r', end = '')\n",
    "        \n",
    "        v = argrelextrema(q, np.greater)              # find all local maxima\n",
    "        N0 = len(v[0])                                # number of maxima\n",
    "        for i in range(N0-1):                         # for all maxima\n",
    "            hist += [np.sum(q[v[0][i]:v[0][i+1]])]    # calculate integral (Energy of pulse)\n",
    "\n",
    "    print(str(file_name0)+\" 100%\")\n",
    "    np.savetxt(\"hist_\"+file_name0+\".csv\", hist, delimiter = '\\n')  # save array of pulses energy\n",
    "    f.close()"
   ]
  },
  {
   "cell_type": "code",
   "execution_count": 5,
   "metadata": {},
   "outputs": [
    {
     "name": "stdout",
     "output_type": "stream",
     "text": [
      "Noise level 210.83860706585403\n",
      "0_Ar1Xe25.0 100%\n"
     ]
    }
   ],
   "source": [
    "analyse('0_Ar1Xe25.0')   # calculate for one file"
   ]
  },
  {
   "cell_type": "markdown",
   "metadata": {},
   "source": [
    "## Функция, которая строит гистограмму и вычисляет основные параметры (количество импульсов, среднюю энергию, максимальную энергию и количество эффективных импульсов)"
   ]
  },
  {
   "cell_type": "code",
   "execution_count": 6,
   "metadata": {},
   "outputs": [],
   "source": [
    "def plot_hist(file_name0, bins):\n",
    "    \n",
    "    # input: file name, number of bins\n",
    "    # output: string with file_name; N; Max_E; Mean_E; E_eff\n",
    "    \n",
    "    plt.style.use('classic')   # set plot style\n",
    "    plt.grid(True)\n",
    "    \n",
    "    z = np.genfromtxt(\"hist_\"+file_name0+\".csv\", delimiter='\\n').T    # read file with pulses energy\n",
    "    print(\"Number of pulses: \", len(z))\n",
    "    print(\"Max: \", max(z))\n",
    "    print(\"Mean: \", sum(z)/len(z))\n",
    "    \n",
    "    x0 = plt.hist(z, bins)      # plot hist\n",
    "    x = x0[1][0:-1]             # x axis\n",
    "    y = x0[0][0:]               # y axis\n",
    "    np.savetxt(file_name0+\"_plot.csv\", np.array([x, y]).T, delimiter = ';') # save hist as plot (one dot for one bin)\n",
    "    plt.title(file_name0)\n",
    "    plt.xlabel('Energy')\n",
    "    plt.ylabel('Number of pulses')\n",
    "    plt.savefig(file_name0+'.png')    # save hist as png\n",
    "    plt.show()                        # show hist in the window (or in notebook in Jupyter)\n",
    "    plt.clf()\n",
    "    return file_name0+\";\"+str(len(z))+\";\"+str(max(z))+\";\"+str(sum(z)/len(z))+\";\"+str(sum(z)/max(z))+\"\\n\"\n"
   ]
  },
  {
   "cell_type": "code",
   "execution_count": 7,
   "metadata": {},
   "outputs": [
    {
     "name": "stdout",
     "output_type": "stream",
     "text": [
      "Number of pulses:  1202670\n",
      "Max:  549237.7346710248\n",
      "Mean:  145884.8340903383\n"
     ]
    },
    {
     "data": {
      "image/png": "[encoded data removed]",
      "text/plain": [
       "<Figure size 640x480 with 1 Axes>"
      ]
     },
     "metadata": {},
     "output_type": "display_data"
    },
    {
     "name": "stdout",
     "output_type": "stream",
     "text": [
      "0_Ar1Xe25.0 hist is ready!\n"
     ]
    },
    {
     "data": {
      "text/plain": [
       "<Figure size 640x480 with 0 Axes>"
      ]
     },
     "metadata": {},
     "output_type": "display_data"
    }
   ],
   "source": [
    "lst_names = ['0_Ar1Xe25.0']       # list of file names\n",
    "f = open('results.csv', 'w')      # open file to write the results\n",
    "f.write(\"file_name; N; Max_E; Mean_E; E_eff \\n\") # write the results\n",
    "\n",
    "for x in lst_names:               # cycle for all files\n",
    "    f.write(plot_hist(x, 300))    \n",
    "    print(x, 'hist is ready!')\n",
    "\n",
    "f.close()"
   ]
  }
 ],
 "metadata": {
  "kernelspec": {
   "display_name": "Python 3",
   "language": "python",
   "name": "python3"
  },
  "language_info": {
   "codemirror_mode": {
    "name": "ipython",
    "version": 3
   },
   "file_extension": ".py",
   "mimetype": "text/x-python",
   "name": "python",
   "nbconvert_exporter": "python",
   "pygments_lexer": "ipython3",
   "version": "3.7.4"
  }
 },
 "nbformat": 4,
 "nbformat_minor": 4
}
